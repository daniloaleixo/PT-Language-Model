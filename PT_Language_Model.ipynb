{
  "nbformat": 4,
  "nbformat_minor": 0,
  "metadata": {
    "colab": {
      "name": "PT_Language_Model.ipynb",
      "provenance": [],
      "include_colab_link": true
    },
    "kernelspec": {
      "name": "python3",
      "display_name": "Python 3"
    },
    "accelerator": "GPU"
  },
  "cells": [
    {
      "cell_type": "markdown",
      "metadata": {
        "id": "view-in-github",
        "colab_type": "text"
      },
      "source": [
        "<a href=\"https://colab.research.google.com/github/daniloaleixo/PT-Language-Model/blob/master/PT_Language_Model.ipynb\" target=\"_parent\"><img src=\"https://colab.research.google.com/assets/colab-badge.svg\" alt=\"Open In Colab\"/></a>"
      ]
    },
    {
      "cell_type": "markdown",
      "metadata": {
        "id": "gyNxe-zz2CJJ",
        "colab_type": "text"
      },
      "source": [
        "# PT Language Model\n"
      ]
    },
    {
      "cell_type": "markdown",
      "metadata": {
        "id": "7Y4--X6AIhmC",
        "colab_type": "text"
      },
      "source": [
        "Based on fast.ai course using ULMfit "
      ]
    },
    {
      "cell_type": "markdown",
      "metadata": {
        "id": "QTeKdEeO2HsI",
        "colab_type": "text"
      },
      "source": [
        "### Fist Configs"
      ]
    },
    {
      "cell_type": "code",
      "metadata": {
        "id": "-Yjfu-8s1R5h",
        "colab_type": "code",
        "outputId": "1e3d6b64-9c74-4814-cdeb-b70b32a35b71",
        "colab": {
          "base_uri": "https://localhost:8080/",
          "height": 51
        }
      },
      "source": [
        "  !curl -s https://course.fast.ai/setup/colab | bash\n"
      ],
      "execution_count": 0,
      "outputs": [
        {
          "output_type": "stream",
          "text": [
            "Updating fastai...\n",
            "Done.\n"
          ],
          "name": "stdout"
        }
      ]
    },
    {
      "cell_type": "code",
      "metadata": {
        "id": "0a8eEKF413jG",
        "colab_type": "code",
        "outputId": "6c1341ba-ff13-4bff-ad90-650c58b4909a",
        "colab": {
          "base_uri": "https://localhost:8080/",
          "height": 122
        }
      },
      "source": [
        "from google.colab import drive\n",
        "drive.mount('/content/gdrive', force_remount=True)\n",
        "root_dir = \"/content/gdrive/My Drive/\"\n",
        "base_dir = root_dir + 'fastai-v3/'"
      ],
      "execution_count": 1,
      "outputs": [
        {
          "output_type": "stream",
          "text": [
            "Go to this URL in a browser: https://accounts.google.com/o/oauth2/auth?client_id=947318989803-6bn6qk8qdgf4n4g3pfee6491hc0brc4i.apps.googleusercontent.com&redirect_uri=urn%3aietf%3awg%3aoauth%3a2.0%3aoob&response_type=code&scope=email%20https%3a%2f%2fwww.googleapis.com%2fauth%2fdocs.test%20https%3a%2f%2fwww.googleapis.com%2fauth%2fdrive%20https%3a%2f%2fwww.googleapis.com%2fauth%2fdrive.photos.readonly%20https%3a%2f%2fwww.googleapis.com%2fauth%2fpeopleapi.readonly\n",
            "\n",
            "Enter your authorization code:\n",
            "··········\n",
            "Mounted at /content/gdrive\n"
          ],
          "name": "stdout"
        }
      ]
    },
    {
      "cell_type": "markdown",
      "metadata": {
        "id": "6LMnE-QY2NN4",
        "colab_type": "text"
      },
      "source": [
        "### Loading \n"
      ]
    },
    {
      "cell_type": "code",
      "metadata": {
        "id": "Pn5YxlK51aOp",
        "colab_type": "code",
        "colab": {}
      },
      "source": [
        "%reload_ext autoreload\n",
        "%autoreload 2\n",
        "%matplotlib inline\n",
        "\n",
        "from fastai import *\n",
        "from fastai.text import *"
      ],
      "execution_count": 0,
      "outputs": []
    },
    {
      "cell_type": "code",
      "metadata": {
        "id": "NJ1TYoje2SSS",
        "colab_type": "code",
        "colab": {}
      },
      "source": [
        "\n",
        "# bs=48\n",
        "# bs=24\n",
        "bs=64"
      ],
      "execution_count": 0,
      "outputs": []
    },
    {
      "cell_type": "code",
      "metadata": {
        "id": "132toP8L2SmO",
        "colab_type": "code",
        "colab": {}
      },
      "source": [
        "torch.cuda.set_device(0)"
      ],
      "execution_count": 0,
      "outputs": []
    },
    {
      "cell_type": "code",
      "metadata": {
        "id": "Nno30it52URz",
        "colab_type": "code",
        "colab": {}
      },
      "source": [
        "path = Path(base_dir + 'data/ptwiki')"
      ],
      "execution_count": 0,
      "outputs": []
    },
    {
      "cell_type": "code",
      "metadata": {
        "id": "SYqHN0X32YSQ",
        "colab_type": "code",
        "colab": {}
      },
      "source": [
        "lang = 'pt'"
      ],
      "execution_count": 0,
      "outputs": []
    },
    {
      "cell_type": "code",
      "metadata": {
        "id": "0aF8fVhO2bgw",
        "colab_type": "code",
        "colab": {}
      },
      "source": [
        "path.mkdir(exist_ok=True, parents=True)\n",
        "lm_fns = [f'{lang}_wt', f'{lang}_wt_vocab']"
      ],
      "execution_count": 0,
      "outputs": []
    },
    {
      "cell_type": "code",
      "metadata": {
        "id": "G845Gyo-_c5X",
        "colab_type": "code",
        "outputId": "31eddd95-83e3-46e8-a02d-25fd147d61fc",
        "colab": {
          "base_uri": "https://localhost:8080/",
          "height": 34
        }
      },
      "source": [
        "path"
      ],
      "execution_count": 8,
      "outputs": [
        {
          "output_type": "execute_result",
          "data": {
            "text/plain": [
              "PosixPath('/content/gdrive/My Drive/fastai-v3/data/ptwiki')"
            ]
          },
          "metadata": {
            "tags": []
          },
          "execution_count": 8
        }
      ]
    },
    {
      "cell_type": "markdown",
      "metadata": {
        "id": "WIoTF6Ne2e7H",
        "colab_type": "text"
      },
      "source": [
        "## Portuguese Wikipedia Model"
      ]
    },
    {
      "cell_type": "markdown",
      "metadata": {
        "id": "6N-zlJHY3V_i",
        "colab_type": "text"
      },
      "source": [
        "### Download Data"
      ]
    },
    {
      "cell_type": "markdown",
      "metadata": {
        "id": "pYu4DwUUHu4Z",
        "colab_type": "text"
      },
      "source": [
        "Here we will download, split data into files and then tokenize it."
      ]
    },
    {
      "cell_type": "code",
      "metadata": {
        "id": "_MCLVd972hxf",
        "colab_type": "code",
        "colab": {}
      },
      "source": [
        "from fastai.basics import *\n",
        "import re\n",
        "\n",
        "\n",
        "def get_wiki(path,lang):\n",
        "    name = f'{lang}wiki'\n",
        "    if (path/name).exists():\n",
        "        print(f\"{path/name} already exists; not downloading\")\n",
        "        return\n",
        "\n",
        "    xml_fn = f\"{lang}wiki-latest-pages-articles.xml\"\n",
        "    zip_fn = f\"{xml_fn}.bz2\"\n",
        "\n",
        "    if not (path/xml_fn).exists():\n",
        "        print(\"downloading...\")\n",
        "        download_url(f'https://dumps.wikimedia.org/{name}/latest/{zip_fn}', path/zip_fn)\n",
        "        print(\"unzipping...\")\n",
        "        bunzip(path/zip_fn)\n",
        "\n",
        "    with working_directory(path):\n",
        "        if not (path/'wikiextractor').exists(): os.system('git clone https://github.com/attardi/wikiextractor.git')\n",
        "        print(\"extracting...\")\n",
        "        os.system(\"python wikiextractor/WikiExtractor.py --processes 4 --no_templates \" +\n",
        "            f\"--min_text_length 1800 --filter_disambig_pages --log_file log -b 100G -q {xml_fn}\")\n",
        "    shutil.move(str(path/'text/AA/wiki_00'), str(path/name))\n",
        "    shutil.rmtree(path/'text')\n",
        "\n",
        "\n",
        "def split_wiki(path,lang):\n",
        "    dest = path/'docs'\n",
        "    name = f'{lang}wiki'\n",
        "    if dest.exists():\n",
        "        print(f\"{dest} already exists; not splitting\")\n",
        "        return dest\n",
        "\n",
        "    dest.mkdir(exist_ok=True, parents=True)\n",
        "    title_re = re.compile(rf'<doc id=\"\\d+\" url=\"https://{lang}.wikipedia.org/wiki\\?curid=\\d+\" title=\"([^\"]+)\">')\n",
        "    lines = (path/name).open()\n",
        "    f=None\n",
        "\n",
        "    for i,l in enumerate(lines):\n",
        "        if i%100000 == 0: print(i)\n",
        "        if l.startswith('<doc id=\"'):\n",
        "            title = title_re.findall(l)[0].replace('/','_')\n",
        "            if len(title)>150: continue\n",
        "            if f: f.close()\n",
        "            f = (dest/f'{title}.txt').open('w')\n",
        "        else: f.write(l)\n",
        "    f.close()\n",
        "    return dest"
      ],
      "execution_count": 0,
      "outputs": []
    },
    {
      "cell_type": "code",
      "metadata": {
        "id": "MuM7E9I72krj",
        "colab_type": "code",
        "outputId": "05384114-1ccd-462b-e1f1-6bec028bc2d9",
        "colab": {
          "base_uri": "https://localhost:8080/",
          "height": 34
        }
      },
      "source": [
        "get_wiki(path,lang)\n"
      ],
      "execution_count": 0,
      "outputs": [
        {
          "output_type": "stream",
          "text": [
            "/content/gdrive/My Drive/fastai-v3/data/ptwiki/ptwiki already exists; not downloading\n"
          ],
          "name": "stdout"
        }
      ]
    },
    {
      "cell_type": "code",
      "metadata": {
        "id": "HuKEKk2V2uLY",
        "colab_type": "code",
        "outputId": "b0fda371-3310-4f6b-b5b1-20340d1f37c7",
        "colab": {
          "base_uri": "https://localhost:8080/",
          "height": 102
        }
      },
      "source": [
        "path.ls()"
      ],
      "execution_count": 0,
      "outputs": [
        {
          "output_type": "execute_result",
          "data": {
            "text/plain": [
              "[PosixPath('/content/gdrive/My Drive/fastai-v3/data/ptwiki/ptwiki-latest-pages-articles.xml.bz2'),\n",
              " PosixPath('/content/gdrive/My Drive/fastai-v3/data/ptwiki/ptwiki-latest-pages-articles.xml'),\n",
              " PosixPath('/content/gdrive/My Drive/fastai-v3/data/ptwiki/wikiextractor'),\n",
              " PosixPath('/content/gdrive/My Drive/fastai-v3/data/ptwiki/log'),\n",
              " PosixPath('/content/gdrive/My Drive/fastai-v3/data/ptwiki/ptwiki')]"
            ]
          },
          "metadata": {
            "tags": []
          },
          "execution_count": 17
        }
      ]
    },
    {
      "cell_type": "code",
      "metadata": {
        "id": "csPE_CtE28OC",
        "colab_type": "code",
        "outputId": "96de8731-e491-4fcc-ed29-f5789651671a",
        "colab": {
          "base_uri": "https://localhost:8080/",
          "height": 34
        }
      },
      "source": [
        "!head -n4 {path}/{name}"
      ],
      "execution_count": 0,
      "outputs": [
        {
          "output_type": "stream",
          "text": [
            "head: cannot open '{path}/{name}' for reading: No such file or directory\n"
          ],
          "name": "stdout"
        }
      ]
    },
    {
      "cell_type": "code",
      "metadata": {
        "id": "a3uIeduyL8WT",
        "colab_type": "code",
        "outputId": "9e18a4ee-88d9-4dfc-f82b-1e19de26273e",
        "colab": {
          "base_uri": "https://localhost:8080/",
          "height": 1000
        }
      },
      "source": [
        "dest = split_wiki(path,lang)"
      ],
      "execution_count": 0,
      "outputs": [
        {
          "output_type": "stream",
          "text": [
            "0\n",
            "100000\n",
            "200000\n",
            "300000\n",
            "400000\n",
            "500000\n",
            "600000\n",
            "700000\n",
            "800000\n",
            "900000\n",
            "1000000\n",
            "1100000\n",
            "1200000\n",
            "1300000\n",
            "1400000\n",
            "1500000\n",
            "1600000\n",
            "1700000\n",
            "1800000\n",
            "1900000\n",
            "2000000\n",
            "2100000\n",
            "2200000\n",
            "2300000\n",
            "2400000\n",
            "2500000\n",
            "2600000\n",
            "2700000\n",
            "2800000\n",
            "2900000\n",
            "3000000\n",
            "3100000\n",
            "3200000\n",
            "3300000\n",
            "3400000\n",
            "3500000\n",
            "3600000\n",
            "3700000\n",
            "3800000\n",
            "3900000\n",
            "4000000\n",
            "4100000\n",
            "4200000\n",
            "4300000\n",
            "4400000\n",
            "4500000\n",
            "4600000\n",
            "4700000\n",
            "4800000\n",
            "4900000\n",
            "5000000\n",
            "5100000\n",
            "5200000\n",
            "5300000\n",
            "5400000\n",
            "5500000\n",
            "5600000\n",
            "5700000\n",
            "5800000\n",
            "5900000\n",
            "6000000\n",
            "6100000\n",
            "6200000\n",
            "6300000\n",
            "6400000\n",
            "6500000\n",
            "6600000\n",
            "6700000\n",
            "6800000\n",
            "6900000\n",
            "7000000\n",
            "7100000\n"
          ],
          "name": "stdout"
        }
      ]
    },
    {
      "cell_type": "code",
      "metadata": {
        "id": "5kjLYilxMFeO",
        "colab_type": "code",
        "outputId": "4c19d775-ffcb-4c8c-b779-de231be886ed",
        "colab": {
          "base_uri": "https://localhost:8080/",
          "height": 102
        }
      },
      "source": [
        "dest.ls()[:5]"
      ],
      "execution_count": 0,
      "outputs": [
        {
          "output_type": "execute_result",
          "data": {
            "text/plain": [
              "[PosixPath('/content/gdrive/My Drive/fastai-v3/data/ptwiki/docs/Astronomia.txt'),\n",
              " PosixPath('/content/gdrive/My Drive/fastai-v3/data/ptwiki/docs/América Latina.txt'),\n",
              " PosixPath('/content/gdrive/My Drive/fastai-v3/data/ptwiki/docs/Albino Forjaz de Sampaio.txt'),\n",
              " PosixPath('/content/gdrive/My Drive/fastai-v3/data/ptwiki/docs/Anno Domini.txt'),\n",
              " PosixPath('/content/gdrive/My Drive/fastai-v3/data/ptwiki/docs/Aquiles.txt')]"
            ]
          },
          "metadata": {
            "tags": []
          },
          "execution_count": 20
        }
      ]
    },
    {
      "cell_type": "markdown",
      "metadata": {
        "id": "q8qDy63tMJ4V",
        "colab_type": "text"
      },
      "source": [
        "### Create pretrained model"
      ]
    },
    {
      "cell_type": "markdown",
      "metadata": {
        "id": "9OE9PIxes_DB",
        "colab_type": "text"
      },
      "source": [
        "#### Tokenize"
      ]
    },
    {
      "cell_type": "markdown",
      "metadata": {
        "id": "d7tlUFP3H5WO",
        "colab_type": "text"
      },
      "source": [
        "As Google Colab does not handle tokenize because of RAM issues, I've ran it into my computer and then uploaded to Google drive"
      ]
    },
    {
      "cell_type": "code",
      "metadata": {
        "id": "j42DKiBmtTny",
        "colab_type": "code",
        "colab": {}
      },
      "source": [
        "dest = \"/content/gdrive/My Drive/fastai-v3/data/ptwiki/docs/\""
      ],
      "execution_count": 0,
      "outputs": []
    },
    {
      "cell_type": "code",
      "metadata": {
        "id": "Zrow6jCsMLEh",
        "colab_type": "code",
        "colab": {}
      },
      "source": [
        "data = (TextList.from_folder(dest)\n",
        "            .split_by_rand_pct(0.1, seed=42)\n",
        "            .label_for_lm()           \n",
        "            .databunch(bs=bs, num_workers=1))"
      ],
      "execution_count": 0,
      "outputs": []
    },
    {
      "cell_type": "code",
      "metadata": {
        "id": "FPefsfYEfcuu",
        "colab_type": "code",
        "outputId": "0c93acc7-d152-4c19-ac3c-48ac3e2d5349",
        "colab": {
          "base_uri": "https://localhost:8080/",
          "height": 34
        }
      },
      "source": [
        "data.save(f'{lang}_databunch')\n",
        "len(data.vocab.itos),len(data.train_ds)"
      ],
      "execution_count": 0,
      "outputs": [
        {
          "output_type": "execute_result",
          "data": {
            "text/plain": [
              "(16, 1)"
            ]
          },
          "metadata": {
            "tags": []
          },
          "execution_count": 13
        }
      ]
    },
    {
      "cell_type": "markdown",
      "metadata": {
        "id": "_1-TM7j-tGBq",
        "colab_type": "text"
      },
      "source": [
        "#### Create model"
      ]
    },
    {
      "cell_type": "code",
      "metadata": {
        "id": "NyBdl9qPFtLV",
        "colab_type": "code",
        "colab": {}
      },
      "source": [
        "# Run to get the info from drive if is already there (RAM issues described above)\n",
        "dest = \"/content/gdrive/My Drive/fastai-v3/data/ptwiki/\""
      ],
      "execution_count": 0,
      "outputs": []
    },
    {
      "cell_type": "code",
      "metadata": {
        "id": "-iWHR0_9MOVD",
        "colab_type": "code",
        "colab": {}
      },
      "source": [
        "data = load_data(path, f'{lang}_databunch', bs=bs)"
      ],
      "execution_count": 0,
      "outputs": []
    },
    {
      "cell_type": "code",
      "metadata": {
        "id": "tbL-ewTlMSOb",
        "colab_type": "code",
        "colab": {}
      },
      "source": [
        "learn = language_model_learner(data, AWD_LSTM, drop_mult=0.5, pretrained=False).to_fp16()"
      ],
      "execution_count": 0,
      "outputs": []
    },
    {
      "cell_type": "code",
      "metadata": {
        "id": "RXPxu5nvMSke",
        "colab_type": "code",
        "colab": {}
      },
      "source": [
        "lr = 1e-2\n",
        "lr *= bs/48  # Scale learning rate by batch size"
      ],
      "execution_count": 0,
      "outputs": []
    },
    {
      "cell_type": "markdown",
      "metadata": {
        "id": "sSlem6mcIcH_",
        "colab_type": "text"
      },
      "source": [
        "Not let's train it for 10 epochs and see how it's done"
      ]
    },
    {
      "cell_type": "code",
      "metadata": {
        "id": "xuzbauHaMT1R",
        "colab_type": "code",
        "colab": {
          "base_uri": "https://localhost:8080/",
          "height": 95
        },
        "outputId": "9816ee5a-df71-4dea-feed-894a1ec1fc5b"
      },
      "source": [
        "# 1\n",
        "learn.unfreeze()\n",
        "learn.fit_one_cycle(1, lr, moms=(0.8,0.7))\n",
        "learn.save('fit_1')"
      ],
      "execution_count": 0,
      "outputs": [
        {
          "output_type": "display_data",
          "data": {
            "text/html": [
              "\n",
              "    <div>\n",
              "        <style>\n",
              "            /* Turns off some styling */\n",
              "            progress {\n",
              "                /* gets rid of default border in Firefox and Opera. */\n",
              "                border: none;\n",
              "                /* Needs to be in here for Safari polyfill so background images work as expected. */\n",
              "                background-size: auto;\n",
              "            }\n",
              "            .progress-bar-interrupted, .progress-bar-interrupted::-webkit-progress-bar {\n",
              "                background: #F44336;\n",
              "            }\n",
              "        </style>\n",
              "      <progress value='0' class='' max='1', style='width:300px; height:20px; vertical-align: middle;'></progress>\n",
              "      0.00% [0/1 00:00<00:00]\n",
              "    </div>\n",
              "    \n",
              "<table border=\"1\" class=\"dataframe\">\n",
              "  <thead>\n",
              "    <tr style=\"text-align: left;\">\n",
              "      <th>epoch</th>\n",
              "      <th>train_loss</th>\n",
              "      <th>valid_loss</th>\n",
              "      <th>accuracy</th>\n",
              "      <th>time</th>\n",
              "    </tr>\n",
              "  </thead>\n",
              "  <tbody>\n",
              "  </tbody>\n",
              "</table><p>\n",
              "\n",
              "    <div>\n",
              "        <style>\n",
              "            /* Turns off some styling */\n",
              "            progress {\n",
              "                /* gets rid of default border in Firefox and Opera. */\n",
              "                border: none;\n",
              "                /* Needs to be in here for Safari polyfill so background images work as expected. */\n",
              "                background-size: auto;\n",
              "            }\n",
              "            .progress-bar-interrupted, .progress-bar-interrupted::-webkit-progress-bar {\n",
              "                background: #F44336;\n",
              "            }\n",
              "        </style>\n",
              "      <progress value='3051' class='' max='51505', style='width:300px; height:20px; vertical-align: middle;'></progress>\n",
              "      5.92% [3051/51505 11:39<3:05:10 4.3164]\n",
              "    </div>\n",
              "    "
            ],
            "text/plain": [
              "<IPython.core.display.HTML object>"
            ]
          },
          "metadata": {
            "tags": []
          }
        }
      ]
    },
    {
      "cell_type": "code",
      "metadata": {
        "id": "nFGU7-xaGKXa",
        "colab_type": "code",
        "colab": {}
      },
      "source": [
        "# 2\n",
        "learn.fit_one_cycle(1, lr, moms=(0.8,0.7))\n",
        "learn.save('fit_2')"
      ],
      "execution_count": 0,
      "outputs": []
    },
    {
      "cell_type": "code",
      "metadata": {
        "id": "jo8h3zqRGTY4",
        "colab_type": "code",
        "colab": {}
      },
      "source": [
        "# 3\n",
        "learn.fit_one_cycle(1, lr, moms=(0.8,0.7))\n",
        "learn.save('fit_3')"
      ],
      "execution_count": 0,
      "outputs": []
    },
    {
      "cell_type": "code",
      "metadata": {
        "id": "4AYOzYFfGZry",
        "colab_type": "code",
        "colab": {}
      },
      "source": [
        ""
      ],
      "execution_count": 0,
      "outputs": []
    }
  ]
}